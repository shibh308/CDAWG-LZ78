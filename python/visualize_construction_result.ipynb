{
 "cells": [
  {
   "cell_type": "code",
   "execution_count": null,
   "metadata": {},
   "outputs": [],
   "source": [
    "import ast\n",
    "import pandas as pd\n",
    "\n",
    "def convert_to_list(s):\n",
    "    return ast.literal_eval(s)\n",
    "\n",
    "df = pd.read_csv('../results/output_construct.csv', converters={'num_iter_bins': convert_to_list})\n",
    "df['bytes_per_character'] = df['memory_usage_cdawg'] / df['memory_usage_text']\n",
    "df['vertices_per_character'] = df['num_vertices'] / df['text_length']\n",
    "df['edges_per_character'] = df['num_edges'] / df['text_length']\n",
    "df['memory_usage_cdawg'] /= 1024.0 * 1024.0\n",
    "df['memory_usage_ma'] /= 1024.0 * 1024.0\n",
    "df"
   ]
  },
  {
   "cell_type": "code",
   "execution_count": null,
   "metadata": {},
   "outputs": [],
   "source": [
    "import seaborn as sns\n",
    "import matplotlib.pyplot as plt\n",
    "from matplotlib.ticker import MultipleLocator, FuncFormatter\n",
    "import numpy as np\n",
    "\n",
    "\n",
    "filenames = ['sources', 'dna', 'english', 'fib']\n",
    "lengths = [1 << x for x in range(3, 28)]\n",
    "\n",
    "\n",
    "for label in ['num_vertices', 'num_edges', 'edges_per_character', 'bytes_per_character', 'elapsed_time_lz78']:\n",
    "    fig, ax = plt.subplots(figsize=(8, 4))\n",
    "    # for filename in filenames:\n",
    "    sns.lineplot(df, x='text_length', y=label, hue='filename', ax=ax)\n",
    "    if label.startswith('memory_usage'):\n",
    "        ax.set_title(label + ' [kB]')\n",
    "    if label.endswith('per_character'):\n",
    "        ax.set_xscale('log', base=2)\n",
    "        ax.set_xticks(df['text_length'])\n",
    "        ax.get_xaxis().set_major_formatter(plt.FuncFormatter(lambda x, _: f\"$2^{{{int(np.log2(x))}}}$\"))\n",
    "        ax.set_title(label + ' [bytes]')\n",
    "    if label.startswith('elapsed_time_lz78'):\n",
    "        ax.set_title(label + ' [ms]')\n",
    "    else:\n",
    "        ax.set_title(label)\n",
    "\n",
    "    # handler, label = ax.get_legend_handles_labels()\n",
    "    # ax.legend(handler, filenames)\n",
    "    ax.legend()\n"
   ]
  },
  {
   "cell_type": "code",
   "execution_count": null,
   "metadata": {},
   "outputs": [],
   "source": [
    "df_st = pd.read_csv('../results/output_compress_suffixtree.csv', converters={'elapsed_time_lz78': convert_to_list})\n",
    "df_st_memory = df_st.groupby('filename')['memory_usage_st'].mean() / 1024.0 / 1024.0\n",
    "\n",
    "# create the dataframe such that extract the largest data for each file name\n",
    "df_max = df[df.text_length == 1 << 27].copy()\n",
    "df_max.drop(columns=['memory_usage_ma', 'memory_usage_text', 'num_iter_bins'], inplace=True)\n",
    "df_max.set_index('filename', inplace=True)\n",
    "df_max['memory_usage_st'] = df_st_memory\n",
    "df_max"
   ]
  },
  {
   "cell_type": "code",
   "execution_count": null,
   "metadata": {},
   "outputs": [],
   "source": [
    "df2 = df.set_index(['filename', 'text_length'])\n",
    "\n",
    "plt.rcParams[\"font.size\"] = 12\n",
    "fig, ax = plt.subplots(figsize=(12, 3))\n",
    "# ax2 = ax.twinx()\n",
    "\n",
    "\n",
    "colors = { 'sources': 'tab:orange', 'dna': 'tab:green', 'english': 'tab:blue', 'fib': 'tab:red'}\n",
    "\n",
    "alpha = 0.7\n",
    "\n",
    "for filename in filenames:\n",
    "    bin = df2.loc[filename, lengths[-1]]['num_iter_bins']\n",
    "    n = sum(bin)\n",
    "    bin = bin[:41]\n",
    "\n",
    "    # Plot the distribution of the number of edges on the path representing S[i, n]\n",
    "    ax.bar(range(len(bin)), bin, alpha=alpha, label=filename, color=colors[filename])\n",
    "    alpha -= 0.1\n",
    "    # ax.set_xticks(range(0, len(bin) + 1, 5))\n",
    "    ax.set_ylim(0, n)\n",
    "    ax.set_xlim(0, len(bin))\n",
    "    # ax.set_xticklabels(range(0, len(bin) + 1, 5))\n",
    "    ax.set_xlabel('number of edges on the path representing T[i, n]')\n",
    "    ax.set_ylabel('number of paths')\n",
    "    ax.set_yticks(range(0, n + 1, n // 10))\n",
    "    ax.set_yticklabels([f'{x / n:.1f}n' for x in range(0, n + 1, n // 10)])\n",
    "    # add the cumulative sum of the number of edges on the path representing S[i, n]\n",
    "    cumsum = np.cumsum(bin)\n",
    "    ax.plot(range(len(bin)), cumsum, color=colors[filename], alpha=0.8)\n",
    "\n",
    "    average = sum(map(lambda x: x[0] * x[1], enumerate(bin))) // sum(bin)\n",
    "\n",
    "    # Plot vertical line\n",
    "    ax.axvline(x=average, linestyle='--', color=colors[filename], alpha=0.8)\n",
    "ax.legend()\n",
    "fig.savefig(f'../results/num_iter_bins.pdf', bbox_inches='tight')\n",
    "plt.show()\n"
   ]
  }
 ],
 "metadata": {
  "kernelspec": {
   "display_name": "venv",
   "language": "python",
   "name": "python3"
  },
  "language_info": {
   "codemirror_mode": {
    "name": "ipython",
    "version": 3
   },
   "file_extension": ".py",
   "mimetype": "text/x-python",
   "name": "python",
   "nbconvert_exporter": "python",
   "pygments_lexer": "ipython3",
   "version": "3.10.12"
  }
 },
 "nbformat": 4,
 "nbformat_minor": 2
}
