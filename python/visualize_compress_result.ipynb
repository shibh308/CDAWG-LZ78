{
 "cells": [
  {
   "cell_type": "code",
   "execution_count": null,
   "metadata": {},
   "outputs": [],
   "source": [
    "import ast\n",
    "import pandas as pd\n",
    "\n",
    "def convert_to_list(s):\n",
    "    return ast.literal_eval(s)\n",
    "\n",
    "# DataFrameの読み込み\n",
    "df = pd.read_csv('../results/output_compress.csv', converters={'memory_usage_ma': convert_to_list, 'elapsed_time_lz78': convert_to_list})\n",
    "# df['bytes_per_character'] = df['memory_usage_cdawg'] / df['memory_usage_text']\n",
    "# df['edges_per_character'] = df['num_edges'] / df['text_length']\n",
    "# df['memory_usage_cdawg'] /= 1024.0 * 1024.0\n",
    "# df['memory_usage_ma'] /= 1024.0 * 1024.0\n",
    "df['memory_usage_ma_average'] = df['memory_usage_ma'].apply(lambda x: sum(x) / len(x)) / 1024.0 / 1024.0\n",
    "df['elapsed_time_lz78_average'] = df['elapsed_time_lz78'].apply(lambda x: sum(x) / len(x)) / 1e6\n",
    "df"
   ]
  },
  {
   "cell_type": "code",
   "execution_count": null,
   "metadata": {},
   "outputs": [],
   "source": [
    "import seaborn as sns\n",
    "import matplotlib.pyplot as plt\n",
    "from matplotlib.ticker import MultipleLocator, FuncFormatter\n",
    "import numpy as np\n",
    "\n",
    "filenames = ['sources', 'dna', 'english']\n",
    "colors = { 'sources': 'tab:orange', 'dna': 'tab:green', 'english': 'tab:blue' }\n",
    "lengths = [1 << x for x in range(3, 27)]\n",
    "\n",
    "df_construct = pd.read_csv('../results/output_construct.csv', converters={'num_iter_bins': convert_to_list})\n",
    "\n",
    "memory_usage_cdawg = df_construct[df_construct.text_length == df_construct.text_length.max()].groupby('filename')['memory_usage_cdawg'].mean() / 1024.0 / 1024.0\n",
    "\n",
    "df_g = df.groupby('filename')\n",
    "\n",
    "fig, ax = plt.subplots(figsize=(8, 4))\n",
    "for filename, sub_df in df_g:\n",
    "    # plot the graph of memory_usage_ma_average\n",
    "    # set ax as log_scale\n",
    "    ax.set_xscale('log', base=10)\n",
    "    ax.set_yscale('log', base=10)\n",
    "        \n",
    "    # write horizontal bar indicates memory_usage_cdawg\n",
    "    ax.axhline(y=memory_usage_cdawg[filename], linestyle=':', color=colors[filename])\n",
    "    ax.plot(sub_df['substr_length'], sub_df['memory_usage_ma_average'], label=filename, color=colors[filename])\n",
    "ax.set_xlabel('substring length')\n",
    "ax.set_ylabel('memory usage (MiB)')\n",
    "ax.legend()\n",
    "fig.savefig(f'../results/elapsed_time.pdf')\n",
    "fig.show()\n"
   ]
  },
  {
   "cell_type": "code",
   "execution_count": null,
   "metadata": {},
   "outputs": [],
   "source": [
    "\n",
    "fig, ax = plt.subplots(figsize=(8, 4))\n",
    "for filename, sub_df in df_g:\n",
    "    # plot the graph of memory_usage_ma_average\n",
    "    # set ax as log_scale\n",
    "    ax.set_xscale('log', base=10)\n",
    "    ax.set_yscale('log', base=10)\n",
    "\n",
    "    ax.plot(sub_df['substr_length'], sub_df['elapsed_time_lz78_average'], label=filename, color=colors[filename])\n",
    "    # ax.plot(df['substr_length'], df['memory_usage_ma_average'], label=filename)\n",
    "ax.set_xlabel('substring length')\n",
    "ax.set_ylabel('elapsed time (s)')\n",
    "ax.legend()\n",
    "fig.savefig(f'../results/memory_usage_ma.pdf')\n",
    "fig.show()"
   ]
  }
 ],
 "metadata": {
  "kernelspec": {
   "display_name": "venv",
   "language": "python",
   "name": "python3"
  },
  "language_info": {
   "codemirror_mode": {
    "name": "ipython",
    "version": 3
   },
   "file_extension": ".py",
   "mimetype": "text/x-python",
   "name": "python",
   "nbconvert_exporter": "python",
   "pygments_lexer": "ipython3",
   "version": "3.10.12"
  }
 },
 "nbformat": 4,
 "nbformat_minor": 2
}
