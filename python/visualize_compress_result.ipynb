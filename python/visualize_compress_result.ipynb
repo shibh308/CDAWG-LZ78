{
 "cells": [
  {
   "cell_type": "code",
   "execution_count": null,
   "metadata": {},
   "outputs": [],
   "source": [
    "import ast\n",
    "import pandas as pd\n",
    "\n",
    "def convert_to_list(s):\n",
    "    return ast.literal_eval(s)\n",
    "\n",
    "df = pd.read_csv('../results/output_compress_cdawg.csv', converters={'memory_usage_ma': convert_to_list, 'elapsed_time_lz78': convert_to_list})\n",
    "df['memory_usage_ma_average'] = df['memory_usage_ma'].apply(lambda x: (sum(x) - max(x) - min(x)) / (len(x) - 2)) / 1024.0 / 1024.0\n",
    "df['elapsed_time_lz78_average'] = df['elapsed_time_lz78'].apply(lambda x: (sum(x) - max(x) - min(x)) / (len(x) - 2)) / 1e6\n",
    "df"
   ]
  },
  {
   "cell_type": "code",
   "execution_count": null,
   "metadata": {},
   "outputs": [],
   "source": [
    "import seaborn as sns\n",
    "import matplotlib.pyplot as plt\n",
    "from matplotlib.ticker import MultipleLocator, FuncFormatter\n",
    "import numpy as np\n",
    "\n",
    "plt.rcParams[\"font.size\"] = 12\n",
    "\n",
    "\n",
    "filenames = ['sources', 'dna', 'english',  'fib']\n",
    "colors = { 'sources': 'tab:orange', 'dna': 'tab:green', 'english': 'tab:blue', 'fib': 'tab:red'}\n",
    "lengths = [1 << x for x in range(3, 27)]\n",
    "\n",
    "df_construct = pd.read_csv('../results/output_construct.csv', converters={'num_iter_bins': convert_to_list})\n",
    "\n",
    "memory_usage_cdawg = df_construct[df_construct.text_length == df_construct.text_length.max()].groupby('filename')['memory_usage_cdawg'].mean() / 1024.0 / 1024.0\n",
    "\n",
    "fig, ax = plt.subplots(figsize=(6, 3))\n",
    "for filename in filenames:\n",
    "    sub_df = df[df.filename == filename]\n",
    "    # plot the graph of memory_usage_ma_average\n",
    "    # set ax as log_scale\n",
    "    ax.set_xscale('log', base=10)\n",
    "    ax.set_yscale('log', base=10)\n",
    "    # write horizontal bar indicates memory_usage_cdawg\n",
    "    ax.axhline(y=memory_usage_cdawg[filename], linestyle=':', color=colors[filename])\n",
    "    ax.plot(sub_df['substr_length'], sub_df['memory_usage_ma_average'], label=filename, color=colors[filename])\n",
    "ax.set_xlabel('substring length')\n",
    "ax.set_ylabel('memory usage (MiB)')\n",
    "ax.legend()\n",
    "fig.savefig(f'../results/memory_usage_ma.pdf', bbox_inches='tight')\n",
    "fig.show()\n"
   ]
  },
  {
   "cell_type": "code",
   "execution_count": null,
   "metadata": {},
   "outputs": [],
   "source": [
    "from matplotlib.ticker import LogLocator\n",
    "\n",
    "df_st = pd.read_csv('../results/output_compress_suffixtree.csv', converters={'elapsed_time_lz78': convert_to_list})\n",
    "df_st['elapsed_time_lz78_average'] = df_st['elapsed_time_lz78'].apply(lambda x: (sum(x) - max(x) - min(x)) / (len(x) - 2)) / 1e6\n",
    "df_st.drop(columns=['elapsed_time_lz78', 'num_iter', 'text_length', 'memory_usage_st'], inplace=True)\n",
    "df_m = pd.merge(df, df_st, on=['filename', 'substr_length'], suffixes=('', '_st'))\n",
    "\n",
    "# mi = min(df_m.elapsed_time_lz78_average.min(), df_m.elapsed_time_lz78_average_st.min())\n",
    "# ma = max(df_m.elapsed_time_lz78_average.max(), df_m.elapsed_time_lz78_average_st.max())\n",
    "mi = 1e-6\n",
    "ma = 1000\n",
    "df_g = df_m.groupby('filename')\n",
    "\n",
    "plt.rcParams[\"font.size\"] = 16\n",
    "\n",
    "fig, axes = plt.subplots(2, 2, figsize=(12, 6))\n",
    "fig.subplots_adjust(hspace=0.55, wspace=0.25)\n",
    "\n",
    "\n",
    "for i, filename in enumerate(filenames):\n",
    "    sub_df = df_m[df_m.filename == filename]\n",
    "    ax = axes[i // 2][i % 2]\n",
    "    # set ax as log_scale\n",
    "    ax.set_xscale('log', base=10)\n",
    "    ax.set_yscale('log', base=10)\n",
    "    ax.plot(sub_df['substr_length'], sub_df['elapsed_time_lz78_average'], label='CDAWG')\n",
    "    # plot with linestyle\n",
    "    ax.plot(sub_df['substr_length'], sub_df['elapsed_time_lz78_average_st'], label='ST')\n",
    "    ax.set_ylim(mi, ma)\n",
    "    # set loglocater as min=10^-4, max=10^2\n",
    "    ax.yaxis.set_major_locator(LogLocator(base=10, numticks=5))\n",
    "    ax.set_xlabel('substring length')\n",
    "    ax.set_ylabel('elapsed time (s)')\n",
    "    ax.legend()\n",
    "    ax.set_title(filename)\n",
    "fig.savefig(f'../results/elapsed_time.pdf', bbox_inches='tight')\n",
    "fig.show()"
   ]
  },
  {
   "cell_type": "code",
   "execution_count": null,
   "metadata": {},
   "outputs": [],
   "source": []
  }
 ],
 "metadata": {
  "kernelspec": {
   "display_name": "venv",
   "language": "python",
   "name": "python3"
  },
  "language_info": {
   "codemirror_mode": {
    "name": "ipython",
    "version": 3
   },
   "file_extension": ".py",
   "mimetype": "text/x-python",
   "name": "python",
   "nbconvert_exporter": "python",
   "pygments_lexer": "ipython3",
   "version": "3.10.12"
  }
 },
 "nbformat": 4,
 "nbformat_minor": 2
}
